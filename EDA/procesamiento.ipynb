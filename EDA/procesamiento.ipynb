{
 "cells": [
  {
   "cell_type": "code",
   "execution_count": 2,
   "metadata": {},
   "outputs": [],
   "source": [
    "import pandas as pd\n",
    "import numpy as np\n",
    "import matplotlib.pyplot as plt\n",
    "import seaborn as sns\n",
    "\n",
    "# Load the data\n",
    "df = pd.read_csv('../data/Viral_Social_Media_Trends.csv')"
   ]
  },
  {
   "cell_type": "code",
   "execution_count": 3,
   "metadata": {},
   "outputs": [
    {
     "data": {
      "text/html": [
       "<div>\n",
       "<style scoped>\n",
       "    .dataframe tbody tr th:only-of-type {\n",
       "        vertical-align: middle;\n",
       "    }\n",
       "\n",
       "    .dataframe tbody tr th {\n",
       "        vertical-align: top;\n",
       "    }\n",
       "\n",
       "    .dataframe thead th {\n",
       "        text-align: right;\n",
       "    }\n",
       "</style>\n",
       "<table border=\"1\" class=\"dataframe\">\n",
       "  <thead>\n",
       "    <tr style=\"text-align: right;\">\n",
       "      <th></th>\n",
       "      <th>Post_ID</th>\n",
       "      <th>Platform</th>\n",
       "      <th>Hashtag</th>\n",
       "      <th>Content_Type</th>\n",
       "      <th>Region</th>\n",
       "      <th>Views</th>\n",
       "      <th>Likes</th>\n",
       "      <th>Shares</th>\n",
       "      <th>Comments</th>\n",
       "      <th>Engagement_Level</th>\n",
       "    </tr>\n",
       "  </thead>\n",
       "  <tbody>\n",
       "    <tr>\n",
       "      <th>0</th>\n",
       "      <td>Post_1</td>\n",
       "      <td>TikTok</td>\n",
       "      <td>#Challenge</td>\n",
       "      <td>Video</td>\n",
       "      <td>UK</td>\n",
       "      <td>4163464</td>\n",
       "      <td>339431</td>\n",
       "      <td>53135</td>\n",
       "      <td>19346</td>\n",
       "      <td>High</td>\n",
       "    </tr>\n",
       "    <tr>\n",
       "      <th>1</th>\n",
       "      <td>Post_2</td>\n",
       "      <td>Instagram</td>\n",
       "      <td>#Education</td>\n",
       "      <td>Shorts</td>\n",
       "      <td>India</td>\n",
       "      <td>4155940</td>\n",
       "      <td>215240</td>\n",
       "      <td>65860</td>\n",
       "      <td>27239</td>\n",
       "      <td>Medium</td>\n",
       "    </tr>\n",
       "    <tr>\n",
       "      <th>2</th>\n",
       "      <td>Post_3</td>\n",
       "      <td>Twitter</td>\n",
       "      <td>#Challenge</td>\n",
       "      <td>Video</td>\n",
       "      <td>Brazil</td>\n",
       "      <td>3666211</td>\n",
       "      <td>327143</td>\n",
       "      <td>39423</td>\n",
       "      <td>36223</td>\n",
       "      <td>Medium</td>\n",
       "    </tr>\n",
       "    <tr>\n",
       "      <th>3</th>\n",
       "      <td>Post_4</td>\n",
       "      <td>YouTube</td>\n",
       "      <td>#Education</td>\n",
       "      <td>Shorts</td>\n",
       "      <td>Australia</td>\n",
       "      <td>917951</td>\n",
       "      <td>127125</td>\n",
       "      <td>11687</td>\n",
       "      <td>36806</td>\n",
       "      <td>Low</td>\n",
       "    </tr>\n",
       "    <tr>\n",
       "      <th>4</th>\n",
       "      <td>Post_5</td>\n",
       "      <td>TikTok</td>\n",
       "      <td>#Dance</td>\n",
       "      <td>Post</td>\n",
       "      <td>Brazil</td>\n",
       "      <td>64866</td>\n",
       "      <td>171361</td>\n",
       "      <td>69581</td>\n",
       "      <td>6376</td>\n",
       "      <td>Medium</td>\n",
       "    </tr>\n",
       "  </tbody>\n",
       "</table>\n",
       "</div>"
      ],
      "text/plain": [
       "  Post_ID   Platform     Hashtag Content_Type     Region    Views   Likes  \\\n",
       "0  Post_1     TikTok  #Challenge        Video         UK  4163464  339431   \n",
       "1  Post_2  Instagram  #Education       Shorts      India  4155940  215240   \n",
       "2  Post_3    Twitter  #Challenge        Video     Brazil  3666211  327143   \n",
       "3  Post_4    YouTube  #Education       Shorts  Australia   917951  127125   \n",
       "4  Post_5     TikTok      #Dance         Post     Brazil    64866  171361   \n",
       "\n",
       "   Shares  Comments Engagement_Level  \n",
       "0   53135     19346             High  \n",
       "1   65860     27239           Medium  \n",
       "2   39423     36223           Medium  \n",
       "3   11687     36806              Low  \n",
       "4   69581      6376           Medium  "
      ]
     },
     "execution_count": 3,
     "metadata": {},
     "output_type": "execute_result"
    }
   ],
   "source": [
    "df.head()"
   ]
  },
  {
   "cell_type": "code",
   "execution_count": 4,
   "metadata": {},
   "outputs": [
    {
     "name": "stdout",
     "output_type": "stream",
     "text": [
      "<class 'pandas.core.frame.DataFrame'>\n",
      "RangeIndex: 5000 entries, 0 to 4999\n",
      "Data columns (total 10 columns):\n",
      " #   Column            Non-Null Count  Dtype \n",
      "---  ------            --------------  ----- \n",
      " 0   Post_ID           5000 non-null   object\n",
      " 1   Platform          5000 non-null   object\n",
      " 2   Hashtag           5000 non-null   object\n",
      " 3   Content_Type      5000 non-null   object\n",
      " 4   Region            5000 non-null   object\n",
      " 5   Views             5000 non-null   int64 \n",
      " 6   Likes             5000 non-null   int64 \n",
      " 7   Shares            5000 non-null   int64 \n",
      " 8   Comments          5000 non-null   int64 \n",
      " 9   Engagement_Level  5000 non-null   object\n",
      "dtypes: int64(4), object(6)\n",
      "memory usage: 390.8+ KB\n"
     ]
    }
   ],
   "source": [
    "df.info()"
   ]
  },
  {
   "cell_type": "code",
   "execution_count": 5,
   "metadata": {},
   "outputs": [
    {
     "data": {
      "text/html": [
       "<div>\n",
       "<style scoped>\n",
       "    .dataframe tbody tr th:only-of-type {\n",
       "        vertical-align: middle;\n",
       "    }\n",
       "\n",
       "    .dataframe tbody tr th {\n",
       "        vertical-align: top;\n",
       "    }\n",
       "\n",
       "    .dataframe thead th {\n",
       "        text-align: right;\n",
       "    }\n",
       "</style>\n",
       "<table border=\"1\" class=\"dataframe\">\n",
       "  <thead>\n",
       "    <tr style=\"text-align: right;\">\n",
       "      <th></th>\n",
       "      <th>Views</th>\n",
       "      <th>Likes</th>\n",
       "      <th>Shares</th>\n",
       "      <th>Comments</th>\n",
       "    </tr>\n",
       "  </thead>\n",
       "  <tbody>\n",
       "    <tr>\n",
       "      <th>count</th>\n",
       "      <td>5.000000e+03</td>\n",
       "      <td>5000.000000</td>\n",
       "      <td>5000.000000</td>\n",
       "      <td>5000.000000</td>\n",
       "    </tr>\n",
       "    <tr>\n",
       "      <th>mean</th>\n",
       "      <td>2.494066e+06</td>\n",
       "      <td>251475.029800</td>\n",
       "      <td>50519.562000</td>\n",
       "      <td>24888.393800</td>\n",
       "    </tr>\n",
       "    <tr>\n",
       "      <th>std</th>\n",
       "      <td>1.459490e+06</td>\n",
       "      <td>144349.583384</td>\n",
       "      <td>29066.362671</td>\n",
       "      <td>14284.504319</td>\n",
       "    </tr>\n",
       "    <tr>\n",
       "      <th>min</th>\n",
       "      <td>1.266000e+03</td>\n",
       "      <td>490.000000</td>\n",
       "      <td>52.000000</td>\n",
       "      <td>18.000000</td>\n",
       "    </tr>\n",
       "    <tr>\n",
       "      <th>25%</th>\n",
       "      <td>1.186207e+06</td>\n",
       "      <td>126892.250000</td>\n",
       "      <td>25029.000000</td>\n",
       "      <td>12305.250000</td>\n",
       "    </tr>\n",
       "    <tr>\n",
       "      <th>50%</th>\n",
       "      <td>2.497373e+06</td>\n",
       "      <td>249443.000000</td>\n",
       "      <td>50839.500000</td>\n",
       "      <td>25004.000000</td>\n",
       "    </tr>\n",
       "    <tr>\n",
       "      <th>75%</th>\n",
       "      <td>3.759781e+06</td>\n",
       "      <td>373970.750000</td>\n",
       "      <td>75774.250000</td>\n",
       "      <td>37072.750000</td>\n",
       "    </tr>\n",
       "    <tr>\n",
       "      <th>max</th>\n",
       "      <td>4.999430e+06</td>\n",
       "      <td>499922.000000</td>\n",
       "      <td>99978.000000</td>\n",
       "      <td>49993.000000</td>\n",
       "    </tr>\n",
       "  </tbody>\n",
       "</table>\n",
       "</div>"
      ],
      "text/plain": [
       "              Views          Likes        Shares      Comments\n",
       "count  5.000000e+03    5000.000000   5000.000000   5000.000000\n",
       "mean   2.494066e+06  251475.029800  50519.562000  24888.393800\n",
       "std    1.459490e+06  144349.583384  29066.362671  14284.504319\n",
       "min    1.266000e+03     490.000000     52.000000     18.000000\n",
       "25%    1.186207e+06  126892.250000  25029.000000  12305.250000\n",
       "50%    2.497373e+06  249443.000000  50839.500000  25004.000000\n",
       "75%    3.759781e+06  373970.750000  75774.250000  37072.750000\n",
       "max    4.999430e+06  499922.000000  99978.000000  49993.000000"
      ]
     },
     "execution_count": 5,
     "metadata": {},
     "output_type": "execute_result"
    }
   ],
   "source": [
    "df.describe()"
   ]
  },
  {
   "cell_type": "markdown",
   "metadata": {},
   "source": [
    "# Drop Columns\n",
    "\n",
    "I droped the column 'Engagement_Level' since I already have the data and I can set better intervals. "
   ]
  },
  {
   "cell_type": "code",
   "execution_count": 6,
   "metadata": {},
   "outputs": [],
   "source": [
    "df = df.drop(columns=['Engagement_Level'])"
   ]
  },
  {
   "cell_type": "code",
   "execution_count": 7,
   "metadata": {},
   "outputs": [],
   "source": [
    "df.to_csv('../data/Viral_Social_Media_Trends_Cleaned.csv', index=False)"
   ]
  },
  {
   "cell_type": "markdown",
   "metadata": {},
   "source": [
    "This dataset is already clean, without missing values. So, I just deleted the columns that I won't use and we can start the EDA part."
   ]
  }
 ],
 "metadata": {
  "kernelspec": {
   "display_name": "Python 3",
   "language": "python",
   "name": "python3"
  },
  "language_info": {
   "codemirror_mode": {
    "name": "ipython",
    "version": 3
   },
   "file_extension": ".py",
   "mimetype": "text/x-python",
   "name": "python",
   "nbconvert_exporter": "python",
   "pygments_lexer": "ipython3",
   "version": "3.10.11"
  }
 },
 "nbformat": 4,
 "nbformat_minor": 2
}
