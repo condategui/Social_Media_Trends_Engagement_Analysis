{
 "cells": [
  {
   "cell_type": "code",
   "execution_count": 19,
   "metadata": {},
   "outputs": [],
   "source": [
    "import pandas as pd\n",
    "import numpy as np\n",
    "import matplotlib.pyplot as plt\n",
    "import seaborn as sns\n",
    "from matplotlib.colors import ListedColormap"
   ]
  },
  {
   "cell_type": "code",
   "execution_count": 20,
   "metadata": {},
   "outputs": [],
   "source": [
    "# Load the data\n",
    "df = pd.read_csv('data/social_media_dataset.csv')"
   ]
  },
  {
   "cell_type": "code",
   "execution_count": 21,
   "metadata": {},
   "outputs": [
    {
     "data": {
      "text/html": [
       "<div>\n",
       "<style scoped>\n",
       "    .dataframe tbody tr th:only-of-type {\n",
       "        vertical-align: middle;\n",
       "    }\n",
       "\n",
       "    .dataframe tbody tr th {\n",
       "        vertical-align: top;\n",
       "    }\n",
       "\n",
       "    .dataframe thead th {\n",
       "        text-align: right;\n",
       "    }\n",
       "</style>\n",
       "<table border=\"1\" class=\"dataframe\">\n",
       "  <thead>\n",
       "    <tr style=\"text-align: right;\">\n",
       "      <th></th>\n",
       "      <th>Platform</th>\n",
       "      <th>Hashtag</th>\n",
       "      <th>Content_Type</th>\n",
       "      <th>Impressions</th>\n",
       "      <th>Views</th>\n",
       "      <th>Likes</th>\n",
       "      <th>Shares</th>\n",
       "      <th>Comments</th>\n",
       "      <th>Engagement_Rate</th>\n",
       "    </tr>\n",
       "  </thead>\n",
       "  <tbody>\n",
       "    <tr>\n",
       "      <th>0</th>\n",
       "      <td>TikTok</td>\n",
       "      <td>Music</td>\n",
       "      <td>Video</td>\n",
       "      <td>153973</td>\n",
       "      <td>75655</td>\n",
       "      <td>8760</td>\n",
       "      <td>2385</td>\n",
       "      <td>4208</td>\n",
       "      <td>0.2029</td>\n",
       "    </tr>\n",
       "    <tr>\n",
       "      <th>1</th>\n",
       "      <td>TikTok</td>\n",
       "      <td>Beauty</td>\n",
       "      <td>Video</td>\n",
       "      <td>178116</td>\n",
       "      <td>27357</td>\n",
       "      <td>21324</td>\n",
       "      <td>9454</td>\n",
       "      <td>6875</td>\n",
       "      <td>1.3764</td>\n",
       "    </tr>\n",
       "    <tr>\n",
       "      <th>2</th>\n",
       "      <td>TikTok</td>\n",
       "      <td>Education</td>\n",
       "      <td>Video</td>\n",
       "      <td>178751</td>\n",
       "      <td>87922</td>\n",
       "      <td>5802</td>\n",
       "      <td>4407</td>\n",
       "      <td>2529</td>\n",
       "      <td>0.1449</td>\n",
       "    </tr>\n",
       "    <tr>\n",
       "      <th>3</th>\n",
       "      <td>Twitter</td>\n",
       "      <td>Fitness</td>\n",
       "      <td>Carrousel</td>\n",
       "      <td>166543</td>\n",
       "      <td>88181</td>\n",
       "      <td>16065</td>\n",
       "      <td>4660</td>\n",
       "      <td>649</td>\n",
       "      <td>0.2424</td>\n",
       "    </tr>\n",
       "    <tr>\n",
       "      <th>4</th>\n",
       "      <td>Twitter</td>\n",
       "      <td>Gaming</td>\n",
       "      <td>Text</td>\n",
       "      <td>107985</td>\n",
       "      <td>61481</td>\n",
       "      <td>15830</td>\n",
       "      <td>4996</td>\n",
       "      <td>8138</td>\n",
       "      <td>0.4711</td>\n",
       "    </tr>\n",
       "  </tbody>\n",
       "</table>\n",
       "</div>"
      ],
      "text/plain": [
       "  Platform    Hashtag Content_Type  Impressions  Views  Likes  Shares  \\\n",
       "0   TikTok      Music        Video       153973  75655   8760    2385   \n",
       "1   TikTok     Beauty        Video       178116  27357  21324    9454   \n",
       "2   TikTok  Education        Video       178751  87922   5802    4407   \n",
       "3  Twitter    Fitness    Carrousel       166543  88181  16065    4660   \n",
       "4  Twitter     Gaming         Text       107985  61481  15830    4996   \n",
       "\n",
       "   Comments  Engagement_Rate  \n",
       "0      4208           0.2029  \n",
       "1      6875           1.3764  \n",
       "2      2529           0.1449  \n",
       "3       649           0.2424  \n",
       "4      8138           0.4711  "
      ]
     },
     "execution_count": 21,
     "metadata": {},
     "output_type": "execute_result"
    }
   ],
   "source": [
    "df.head()\n"
   ]
  },
  {
   "cell_type": "code",
   "execution_count": 22,
   "metadata": {},
   "outputs": [],
   "source": [
    "# Filter rows where the platform is 'TikTok'\n",
    "tiktok_rows = df[df['Platform'] == 'TikTok']\n",
    "\n",
    "# Randomly sample 72% of the TikTok rows\n",
    "reduced_tiktok_rows = df[df['Platform'] == 'TikTok'].sample(frac=0.72, random_state=42)\n",
    "\n",
    "# Combine the reduced TikTok rows with the rest of the dataframe\n",
    "df = pd.concat([df[df['Platform'] != 'TikTok'], reduced_tiktok_rows])"
   ]
  },
  {
   "cell_type": "code",
   "execution_count": 23,
   "metadata": {},
   "outputs": [],
   "source": [
    "# Filter rows where the platform is 'Facebook'\n",
    "Facebook_rows = df[df['Platform'] == 'Facebook']\n",
    "\n",
    "# Randomly sample 72% of the Facebook rows\n",
    "reduced_Facebook_rows = df[df['Platform'] == 'Facebook'].sample(frac=0.86, random_state=42)\n",
    "\n",
    "# Combine the reduced Facebook rows with the rest of the dataframe\n",
    "df = pd.concat([df[df['Platform'] != 'Facebook'], reduced_Facebook_rows])"
   ]
  },
  {
   "cell_type": "code",
   "execution_count": 24,
   "metadata": {},
   "outputs": [],
   "source": [
    "# Filter rows where the platform is 'Twitter'\n",
    "Twitter_rows = df[df['Platform'] == 'Twitter']\n",
    "\n",
    "# Randomly sample 72% of the Twitter rows\n",
    "reduced_Twitter_rows = df[df['Platform'] == 'Twitter'].sample(frac=0.65, random_state=42)\n",
    "\n",
    "# Combine the reduced Twitter rows with the rest of the dataframe\n",
    "df = pd.concat([df[df['Platform'] != 'Twitter'], reduced_Twitter_rows])"
   ]
  },
  {
   "cell_type": "code",
   "execution_count": 25,
   "metadata": {},
   "outputs": [
    {
     "data": {
      "image/png": "[encoded data removed]",
      "text/plain": [
       "<Figure size 800x800 with 1 Axes>"
      ]
     },
     "metadata": {},
     "output_type": "display_data"
    }
   ],
   "source": [
    "# Pie chart of Platforms\n",
    "platform_counts = df['Platform'].value_counts()\n",
    "\n",
    "plt.figure(figsize=(8, 8))\n",
    "platform_counts.plot.pie(\n",
    "    autopct='%1.1f%%',\n",
    "    startangle=90\n",
    ")\n",
    "\n",
    "plt.title('Distribution of Posts by Platform')\n",
    "plt.ylabel('')  # Remove y-axis label for better appearance\n",
    "plt.show()"
   ]
  },
  {
   "cell_type": "code",
   "execution_count": null,
   "metadata": {
    "vscode": {
     "languageId": "markdown"
    }
   },
   "outputs": [],
   "source": [
    "# Reduce the specified columns proportionally by 68% for Twitter rows\n",
    "columns_to_reduce = ['Likes', 'Comments', 'Shares', 'Views', 'Impressions', 'Engagement_Rate']\n",
    "reduced_Twitter_rows[columns_to_reduce] *= 0.68"
   ]
  },
  {
   "cell_type": "code",
   "execution_count": null,
   "metadata": {
    "vscode": {
     "languageId": "markdown"
    }
   },
   "outputs": [],
   "source": [
    "To reduce the `columns_to_reduce` randomly, you can apply a random reduction factor to each column for the rows in the specified DataFrame. Here's how you can do it:\n",
    "\n",
    "```python\n",
    "# Generate random reduction factors for each column\n",
    "reduction_factors = np.random.uniform(0.5, 1.0, size=len(columns_to_reduce))\n",
    "\n",
    "# Apply the reduction factors to the specified columns\n",
    "for i, column in enumerate(columns_to_reduce):\n",
    "    df[column] *= reduction_factors[i]\n",
    "```\n",
    "\n",
    "This will randomly reduce the values in the specified columns by a factor between 0.5 and 1.0. Adjust the range of `np.random.uniform` as needed."
   ]
  },
  {
   "cell_type": "code",
   "execution_count": 26,
   "metadata": {},
   "outputs": [],
   "source": [
    "columns_to_reduce = ['Likes', 'Comments', 'Shares', 'Views', 'Impressions', 'Engagement_Rate']\n"
   ]
  },
  {
   "cell_type": "code",
   "execution_count": 27,
   "metadata": {},
   "outputs": [
    {
     "name": "stderr",
     "output_type": "stream",
     "text": [
      "/var/folders/jv/m28dc0910xgbzzt8gj8r_vlm0000gp/T/ipykernel_92341/2190679648.py:1: FutureWarning: Setting an item of incompatible dtype is deprecated and will raise an error in a future version of pandas. Value '[ 1417.72  7664.52  4657.5  ... 10843.12  5653.86  2161.08]' has dtype incompatible with int64, please explicitly cast to a compatible dtype first.\n",
      "  df.loc[df['Platform'] == 'TikTok', columns_to_reduce] *= 0.46\n",
      "/var/folders/jv/m28dc0910xgbzzt8gj8r_vlm0000gp/T/ipykernel_92341/2190679648.py:1: FutureWarning: Setting an item of incompatible dtype is deprecated and will raise an error in a future version of pandas. Value '[1335.84  622.38 1223.6  ...  895.16 3575.58   55.2 ]' has dtype incompatible with int64, please explicitly cast to a compatible dtype first.\n",
      "  df.loc[df['Platform'] == 'TikTok', columns_to_reduce] *= 0.46\n",
      "/var/folders/jv/m28dc0910xgbzzt8gj8r_vlm0000gp/T/ipykernel_92341/2190679648.py:1: FutureWarning: Setting an item of incompatible dtype is deprecated and will raise an error in a future version of pandas. Value '[ 324.76  563.04  169.28 ... 5474.46 4312.96 1230.04]' has dtype incompatible with int64, please explicitly cast to a compatible dtype first.\n",
      "  df.loc[df['Platform'] == 'TikTok', columns_to_reduce] *= 0.46\n",
      "/var/folders/jv/m28dc0910xgbzzt8gj8r_vlm0000gp/T/ipykernel_92341/2190679648.py:1: FutureWarning: Setting an item of incompatible dtype is deprecated and will raise an error in a future version of pandas. Value '[44356.42 42053.66  8751.5  ... 16584.38 14660.2  26987.28]' has dtype incompatible with int64, please explicitly cast to a compatible dtype first.\n",
      "  df.loc[df['Platform'] == 'TikTok', columns_to_reduce] *= 0.46\n",
      "/var/folders/jv/m28dc0910xgbzzt8gj8r_vlm0000gp/T/ipykernel_92341/2190679648.py:1: FutureWarning: Setting an item of incompatible dtype is deprecated and will raise an error in a future version of pandas. Value '[81512.46 57999.56 12096.62 ... 51685.14 61813.88 45938.36]' has dtype incompatible with int64, please explicitly cast to a compatible dtype first.\n",
      "  df.loc[df['Platform'] == 'TikTok', columns_to_reduce] *= 0.46\n"
     ]
    }
   ],
   "source": [
    "df.loc[df['Platform'] == 'TikTok', columns_to_reduce] *= 0.46"
   ]
  },
  {
   "cell_type": "code",
   "execution_count": 28,
   "metadata": {},
   "outputs": [],
   "source": [
    "df.loc[df['Platform'] == 'Facebook', columns_to_reduce] *= 0.27"
   ]
  },
  {
   "cell_type": "code",
   "execution_count": 29,
   "metadata": {},
   "outputs": [],
   "source": [
    "df.loc[df['Platform'] == 'Twitter', columns_to_reduce] *= 0.68"
   ]
  },
  {
   "cell_type": "code",
   "execution_count": 30,
   "metadata": {},
   "outputs": [],
   "source": [
    "df.to_csv('data/social_media_dataset2.csv', index=False)"
   ]
  }
 ],
 "metadata": {
  "kernelspec": {
   "display_name": "Python 3",
   "language": "python",
   "name": "python3"
  },
  "language_info": {
   "codemirror_mode": {
    "name": "ipython",
    "version": 3
   },
   "file_extension": ".py",
   "mimetype": "text/x-python",
   "name": "python",
   "nbconvert_exporter": "python",
   "pygments_lexer": "ipython3",
   "version": "3.10.11"
  }
 },
 "nbformat": 4,
 "nbformat_minor": 2
}
